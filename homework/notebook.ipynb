{
 "cells": [
  {
   "cell_type": "code",
   "execution_count": 2,
   "metadata": {},
   "outputs": [],
   "source": [
    "import pandas as pd"
   ]
  },
  {
   "cell_type": "code",
   "execution_count": 3,
   "metadata": {},
   "outputs": [
    {
     "data": {
      "text/html": [
       "<div>\n",
       "<style scoped>\n",
       "    .dataframe tbody tr th:only-of-type {\n",
       "        vertical-align: middle;\n",
       "    }\n",
       "\n",
       "    .dataframe tbody tr th {\n",
       "        vertical-align: top;\n",
       "    }\n",
       "\n",
       "    .dataframe thead th {\n",
       "        text-align: right;\n",
       "    }\n",
       "</style>\n",
       "<table border=\"1\" class=\"dataframe\">\n",
       "  <thead>\n",
       "    <tr style=\"text-align: right;\">\n",
       "      <th></th>\n",
       "      <th>Letra</th>\n",
       "      <th>Numero</th>\n",
       "      <th>Fecha</th>\n",
       "      <th>Serie</th>\n",
       "      <th>Codigo</th>\n",
       "    </tr>\n",
       "  </thead>\n",
       "  <tbody>\n",
       "    <tr>\n",
       "      <th>0</th>\n",
       "      <td>E</td>\n",
       "      <td>1</td>\n",
       "      <td>1999-02-28</td>\n",
       "      <td>b,g,f</td>\n",
       "      <td>jjj:12,bbb:3,ddd:9,ggg:8,hhh:2</td>\n",
       "    </tr>\n",
       "    <tr>\n",
       "      <th>1</th>\n",
       "      <td>A</td>\n",
       "      <td>2</td>\n",
       "      <td>1999-10-28</td>\n",
       "      <td>a,f,c</td>\n",
       "      <td>ccc:2,ddd:0,aaa:3,hhh:9</td>\n",
       "    </tr>\n",
       "    <tr>\n",
       "      <th>2</th>\n",
       "      <td>B</td>\n",
       "      <td>5</td>\n",
       "      <td>1998-05-02</td>\n",
       "      <td>f,e,a,c</td>\n",
       "      <td>ddd:2,ggg:5,ccc:6,jjj:12</td>\n",
       "    </tr>\n",
       "    <tr>\n",
       "      <th>3</th>\n",
       "      <td>A</td>\n",
       "      <td>3</td>\n",
       "      <td>1999-08-28</td>\n",
       "      <td>a,b</td>\n",
       "      <td>hhh:9,iii:5,eee:7,bbb:1</td>\n",
       "    </tr>\n",
       "    <tr>\n",
       "      <th>4</th>\n",
       "      <td>C</td>\n",
       "      <td>6</td>\n",
       "      <td>1999-12-01</td>\n",
       "      <td>f,g,d,a</td>\n",
       "      <td>iii:6,ddd:5,eee:4,jjj:12</td>\n",
       "    </tr>\n",
       "  </tbody>\n",
       "</table>\n",
       "</div>"
      ],
      "text/plain": [
       "  Letra  Numero       Fecha    Serie                          Codigo\n",
       "0     E       1  1999-02-28    b,g,f  jjj:12,bbb:3,ddd:9,ggg:8,hhh:2\n",
       "1     A       2  1999-10-28    a,f,c         ccc:2,ddd:0,aaa:3,hhh:9\n",
       "2     B       5  1998-05-02  f,e,a,c        ddd:2,ggg:5,ccc:6,jjj:12\n",
       "3     A       3  1999-08-28      a,b         hhh:9,iii:5,eee:7,bbb:1\n",
       "4     C       6  1999-12-01  f,g,d,a        iii:6,ddd:5,eee:4,jjj:12"
      ]
     },
     "execution_count": 3,
     "metadata": {},
     "output_type": "execute_result"
    }
   ],
   "source": [
    "\n",
    "column_names = ['Letra', 'Numero', 'Fecha', 'Serie','Codigo']\n",
    "data = pd.read_csv(\"../files/input/data.csv\",\n",
    "    sep=\"\t\",\n",
    "    names = column_names\n",
    "    # thousands=None,\n",
    "    # decimal=\".\",\n",
    ")\n",
    "data.head()\n"
   ]
  },
  {
   "cell_type": "code",
   "execution_count": 4,
   "metadata": {},
   "outputs": [
    {
     "data": {
      "text/plain": [
       "214"
      ]
     },
     "execution_count": 4,
     "metadata": {},
     "output_type": "execute_result"
    }
   ],
   "source": [
    "suma = data['Numero'].sum()\n",
    "suma"
   ]
  }
 ],
 "metadata": {
  "kernelspec": {
   "display_name": ".venv",
   "language": "python",
   "name": "python3"
  },
  "language_info": {
   "codemirror_mode": {
    "name": "ipython",
    "version": 3
   },
   "file_extension": ".py",
   "mimetype": "text/x-python",
   "name": "python",
   "nbconvert_exporter": "python",
   "pygments_lexer": "ipython3",
   "version": "3.8.8"
  }
 },
 "nbformat": 4,
 "nbformat_minor": 2
}
